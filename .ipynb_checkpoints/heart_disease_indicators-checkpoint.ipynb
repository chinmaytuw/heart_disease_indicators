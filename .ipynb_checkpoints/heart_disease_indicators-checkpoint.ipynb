{
 "cells": [
  {
   "cell_type": "markdown",
   "id": "2fcb2e24",
   "metadata": {},
   "source": [
    "# Introduction"
   ]
  },
  {
   "cell_type": "markdown",
   "id": "12636952",
   "metadata": {},
   "source": [
    "- According to the CDC, heart disease is one of the leading causes of death for people of most races in the US (African Americans, American Indians and Alaska Natives, and white people). \n",
    "- About half of all Americans (47%) have at least 1 of 3 key risk factors for heart disease: high blood pressure, high cholesterol, and smoking. \n",
    "- Other key indicator include diabetic status, obesity (high BMI), not getting enough physical activity or drinking too much alcohol. Detecting and preventing the factors that have the greatest impact on heart disease is very important in healthcare. Computational developments, in turn, allow the application of machine learning methods to detect \"patterns\" from the data that can predict a patient's condition.\n",
    "\n",
    "\n",
    "## Objective:\n",
    "- The dataset at our disposal contains about 20 predictive variables to a binary target class indicating whether the person suffered from heart disease or not. We will create a classification model to that end. "
   ]
  },
  {
   "cell_type": "markdown",
   "id": "91fa037f",
   "metadata": {},
   "source": [
    "## Data Description"
   ]
  },
  {
   "cell_type": "markdown",
   "id": "bd3ac50d",
   "metadata": {},
   "source": [
    "Here's a brief description of the variables in the dataset:\n",
    "\n",
    "- HeartDisease : Respondents that have ever reported having coronary heart disease (CHD) or myocardial infarction (MI).\n",
    "- BMI : Body Mass Index (BMI).\n",
    "- Smoking : Have you smoked at least 100 cigarettes in your entire life? ( The answer Yes or No ).\n",
    "- AlcoholDrinking : Heavy drinkers (adult men having more than 14 drinks per week and adult women having more than 7 drinks per week\n",
    "- Stroke : (Ever told) (you had) a stroke?\n",
    "- PhysicalHealth : Now thinking about your physical health, which includes physical illness and injury, for how many days during the past 30 days was your physical health not good? (0-30 days).\n",
    "- MentalHealth : Thinking about your mental health, for how many days during the past 30 days was your mental health not good? (0-30 days).\n",
    "- DiffWalking : Do you have serious difficulty walking or climbing stairs?\n",
    "- Sex : Are you male or female?\n",
    "- AgeCategory: Fourteen-level age category.\n",
    "- Race : Imputed race/ethnicity value.\n",
    "- Diabetic : (Ever told) (you had) diabetes?\n",
    "- PhysicalActivity : Adults who reported doing physical activity or exercise during the past 30 days other than their regular job.\n",
    "- GenHealth : Would you say that in general your health is...\n",
    "- SleepTime : On average, how many hours of sleep do you get in a 24-hour period?\n",
    "- Asthma : (Ever told) (you had) asthma?\n",
    "- KidneyDisease : Not including kidney stones, bladder infection or incontinence, were you ever told you had kidney disease?\n",
    "- SkinCancer : (Ever told) (you had) skin cancer"
   ]
  },
  {
   "cell_type": "markdown",
   "id": "864d7f48",
   "metadata": {
    "ExecuteTime": {
     "end_time": "2022-04-03T01:24:56.081370Z",
     "start_time": "2022-04-03T01:24:56.070932Z"
    }
   },
   "source": [
    "# Importing Libraries/Data"
   ]
  },
  {
   "cell_type": "code",
   "execution_count": 1,
   "id": "611e8c14",
   "metadata": {
    "ExecuteTime": {
     "end_time": "2022-04-13T19:45:07.500290Z",
     "start_time": "2022-04-13T19:45:06.063965Z"
    }
   },
   "outputs": [],
   "source": [
    "import numpy as np\n",
    "import pandas as pd\n",
    "import matplotlib.pyplot as plt\n",
    "import seaborn as sns\n",
    "from collections import Counter\n",
    "import time"
   ]
  },
  {
   "cell_type": "code",
   "execution_count": 2,
   "id": "2baea681",
   "metadata": {
    "ExecuteTime": {
     "end_time": "2022-04-13T19:45:07.692334Z",
     "start_time": "2022-04-13T19:45:07.501290Z"
    }
   },
   "outputs": [],
   "source": [
    "from sklearn.model_selection import train_test_split, RepeatedStratifiedKFold, cross_val_score\n",
    "from sklearn.dummy import DummyClassifier\n",
    "from sklearn.metrics import precision_recall_curve, auc, fbeta_score, make_scorer, precision_score, roc_auc_score\n",
    "from sklearn.pipeline import Pipeline\n",
    "from sklearn.preprocessing import StandardScaler, OneHotEncoder, LabelEncoder\n",
    "from sklearn.compose import ColumnTransformer"
   ]
  },
  {
   "cell_type": "code",
   "execution_count": 3,
   "id": "52ab1308",
   "metadata": {
    "ExecuteTime": {
     "end_time": "2022-04-13T19:45:07.835366Z",
     "start_time": "2022-04-13T19:45:07.693335Z"
    }
   },
   "outputs": [],
   "source": [
    "from sklearn.linear_model import LogisticRegression\n",
    "from sklearn.discriminant_analysis import LinearDiscriminantAnalysis\n",
    "from sklearn.naive_bayes import GaussianNB\n",
    "from sklearn.gaussian_process import GaussianProcessClassifier\n",
    "from sklearn.svm import SVC\n",
    "from sklearn.tree import DecisionTreeClassifier\n",
    "from sklearn.neighbors import KNeighborsClassifier\n",
    "from sklearn.ensemble import RandomForestClassifier"
   ]
  },
  {
   "cell_type": "code",
   "execution_count": 38,
   "id": "32ea7fed",
   "metadata": {
    "ExecuteTime": {
     "end_time": "2022-04-13T22:53:07.715529Z",
     "start_time": "2022-04-13T22:53:07.695020Z"
    }
   },
   "outputs": [],
   "source": [
    "from imblearn.under_sampling import TomekLinks, EditedNearestNeighbours, RepeatedEditedNearestNeighbours, NeighbourhoodCleaningRule, OneSidedSelection\n",
    "from imblearn.over_sampling import SMOTE\n",
    "from imblearn.combine import SMOTEENN, SMOTETomek"
   ]
  },
  {
   "cell_type": "code",
   "execution_count": null,
   "id": "83f67b35",
   "metadata": {},
   "outputs": [],
   "source": []
  },
  {
   "cell_type": "code",
   "execution_count": 5,
   "id": "8d53f01b",
   "metadata": {
    "ExecuteTime": {
     "end_time": "2022-04-13T19:45:08.185445Z",
     "start_time": "2022-04-13T19:45:07.916384Z"
    }
   },
   "outputs": [],
   "source": [
    "# Import data\n",
    "heart_raw = pd.read_csv('data/heart_2020_cleaned.csv')"
   ]
  },
  {
   "cell_type": "markdown",
   "id": "ecdb432a",
   "metadata": {
    "ExecuteTime": {
     "end_time": "2022-04-03T01:57:11.193202Z",
     "start_time": "2022-04-03T01:57:11.187907Z"
    }
   },
   "source": [
    "# EDA"
   ]
  },
  {
   "cell_type": "markdown",
   "id": "6d5dff1a",
   "metadata": {},
   "source": [
    "## High level EDA"
   ]
  },
  {
   "cell_type": "code",
   "execution_count": 6,
   "id": "d1b44fce",
   "metadata": {
    "ExecuteTime": {
     "end_time": "2022-04-13T19:45:08.201449Z",
     "start_time": "2022-04-13T19:45:08.186445Z"
    }
   },
   "outputs": [
    {
     "data": {
      "text/html": [
       "<div>\n",
       "<style scoped>\n",
       "    .dataframe tbody tr th:only-of-type {\n",
       "        vertical-align: middle;\n",
       "    }\n",
       "\n",
       "    .dataframe tbody tr th {\n",
       "        vertical-align: top;\n",
       "    }\n",
       "\n",
       "    .dataframe thead th {\n",
       "        text-align: right;\n",
       "    }\n",
       "</style>\n",
       "<table border=\"1\" class=\"dataframe\">\n",
       "  <thead>\n",
       "    <tr style=\"text-align: right;\">\n",
       "      <th></th>\n",
       "      <th>HeartDisease</th>\n",
       "      <th>BMI</th>\n",
       "      <th>Smoking</th>\n",
       "      <th>AlcoholDrinking</th>\n",
       "      <th>Stroke</th>\n",
       "      <th>PhysicalHealth</th>\n",
       "      <th>MentalHealth</th>\n",
       "      <th>DiffWalking</th>\n",
       "      <th>Sex</th>\n",
       "      <th>AgeCategory</th>\n",
       "      <th>Race</th>\n",
       "      <th>Diabetic</th>\n",
       "      <th>PhysicalActivity</th>\n",
       "      <th>GenHealth</th>\n",
       "      <th>SleepTime</th>\n",
       "      <th>Asthma</th>\n",
       "      <th>KidneyDisease</th>\n",
       "      <th>SkinCancer</th>\n",
       "    </tr>\n",
       "  </thead>\n",
       "  <tbody>\n",
       "    <tr>\n",
       "      <th>0</th>\n",
       "      <td>No</td>\n",
       "      <td>16.60</td>\n",
       "      <td>Yes</td>\n",
       "      <td>No</td>\n",
       "      <td>No</td>\n",
       "      <td>3.0</td>\n",
       "      <td>30.0</td>\n",
       "      <td>No</td>\n",
       "      <td>Female</td>\n",
       "      <td>55-59</td>\n",
       "      <td>White</td>\n",
       "      <td>Yes</td>\n",
       "      <td>Yes</td>\n",
       "      <td>Very good</td>\n",
       "      <td>5.0</td>\n",
       "      <td>Yes</td>\n",
       "      <td>No</td>\n",
       "      <td>Yes</td>\n",
       "    </tr>\n",
       "    <tr>\n",
       "      <th>1</th>\n",
       "      <td>No</td>\n",
       "      <td>20.34</td>\n",
       "      <td>No</td>\n",
       "      <td>No</td>\n",
       "      <td>Yes</td>\n",
       "      <td>0.0</td>\n",
       "      <td>0.0</td>\n",
       "      <td>No</td>\n",
       "      <td>Female</td>\n",
       "      <td>80 or older</td>\n",
       "      <td>White</td>\n",
       "      <td>No</td>\n",
       "      <td>Yes</td>\n",
       "      <td>Very good</td>\n",
       "      <td>7.0</td>\n",
       "      <td>No</td>\n",
       "      <td>No</td>\n",
       "      <td>No</td>\n",
       "    </tr>\n",
       "    <tr>\n",
       "      <th>2</th>\n",
       "      <td>No</td>\n",
       "      <td>26.58</td>\n",
       "      <td>Yes</td>\n",
       "      <td>No</td>\n",
       "      <td>No</td>\n",
       "      <td>20.0</td>\n",
       "      <td>30.0</td>\n",
       "      <td>No</td>\n",
       "      <td>Male</td>\n",
       "      <td>65-69</td>\n",
       "      <td>White</td>\n",
       "      <td>Yes</td>\n",
       "      <td>Yes</td>\n",
       "      <td>Fair</td>\n",
       "      <td>8.0</td>\n",
       "      <td>Yes</td>\n",
       "      <td>No</td>\n",
       "      <td>No</td>\n",
       "    </tr>\n",
       "    <tr>\n",
       "      <th>3</th>\n",
       "      <td>No</td>\n",
       "      <td>24.21</td>\n",
       "      <td>No</td>\n",
       "      <td>No</td>\n",
       "      <td>No</td>\n",
       "      <td>0.0</td>\n",
       "      <td>0.0</td>\n",
       "      <td>No</td>\n",
       "      <td>Female</td>\n",
       "      <td>75-79</td>\n",
       "      <td>White</td>\n",
       "      <td>No</td>\n",
       "      <td>No</td>\n",
       "      <td>Good</td>\n",
       "      <td>6.0</td>\n",
       "      <td>No</td>\n",
       "      <td>No</td>\n",
       "      <td>Yes</td>\n",
       "    </tr>\n",
       "    <tr>\n",
       "      <th>4</th>\n",
       "      <td>No</td>\n",
       "      <td>23.71</td>\n",
       "      <td>No</td>\n",
       "      <td>No</td>\n",
       "      <td>No</td>\n",
       "      <td>28.0</td>\n",
       "      <td>0.0</td>\n",
       "      <td>Yes</td>\n",
       "      <td>Female</td>\n",
       "      <td>40-44</td>\n",
       "      <td>White</td>\n",
       "      <td>No</td>\n",
       "      <td>Yes</td>\n",
       "      <td>Very good</td>\n",
       "      <td>8.0</td>\n",
       "      <td>No</td>\n",
       "      <td>No</td>\n",
       "      <td>No</td>\n",
       "    </tr>\n",
       "  </tbody>\n",
       "</table>\n",
       "</div>"
      ],
      "text/plain": [
       "  HeartDisease    BMI Smoking AlcoholDrinking Stroke  PhysicalHealth  \\\n",
       "0           No  16.60     Yes              No     No             3.0   \n",
       "1           No  20.34      No              No    Yes             0.0   \n",
       "2           No  26.58     Yes              No     No            20.0   \n",
       "3           No  24.21      No              No     No             0.0   \n",
       "4           No  23.71      No              No     No            28.0   \n",
       "\n",
       "   MentalHealth DiffWalking     Sex  AgeCategory   Race Diabetic  \\\n",
       "0          30.0          No  Female        55-59  White      Yes   \n",
       "1           0.0          No  Female  80 or older  White       No   \n",
       "2          30.0          No    Male        65-69  White      Yes   \n",
       "3           0.0          No  Female        75-79  White       No   \n",
       "4           0.0         Yes  Female        40-44  White       No   \n",
       "\n",
       "  PhysicalActivity  GenHealth  SleepTime Asthma KidneyDisease SkinCancer  \n",
       "0              Yes  Very good        5.0    Yes            No        Yes  \n",
       "1              Yes  Very good        7.0     No            No         No  \n",
       "2              Yes       Fair        8.0    Yes            No         No  \n",
       "3               No       Good        6.0     No            No        Yes  \n",
       "4              Yes  Very good        8.0     No            No         No  "
      ]
     },
     "execution_count": 6,
     "metadata": {},
     "output_type": "execute_result"
    }
   ],
   "source": [
    "# First few rows\n",
    "heart_raw.head()"
   ]
  },
  {
   "cell_type": "markdown",
   "id": "7e8af1dd",
   "metadata": {},
   "source": [
    "- Looks like we have a bunch of boolean variables and a few variables with multiple classes. \n",
    "- Relatively few numerical variables seem to exist."
   ]
  },
  {
   "cell_type": "code",
   "execution_count": 7,
   "id": "a4195c26",
   "metadata": {
    "ExecuteTime": {
     "end_time": "2022-04-13T19:45:08.217453Z",
     "start_time": "2022-04-13T19:45:08.202449Z"
    }
   },
   "outputs": [
    {
     "data": {
      "text/plain": [
       "(319795, 18)"
      ]
     },
     "execution_count": 7,
     "metadata": {},
     "output_type": "execute_result"
    }
   ],
   "source": [
    "# check shape\n",
    "heart_raw.shape"
   ]
  },
  {
   "cell_type": "code",
   "execution_count": 8,
   "id": "93beca74",
   "metadata": {
    "ExecuteTime": {
     "end_time": "2022-04-13T19:45:08.265463Z",
     "start_time": "2022-04-13T19:45:08.218452Z"
    }
   },
   "outputs": [
    {
     "data": {
      "text/html": [
       "<div>\n",
       "<style scoped>\n",
       "    .dataframe tbody tr th:only-of-type {\n",
       "        vertical-align: middle;\n",
       "    }\n",
       "\n",
       "    .dataframe tbody tr th {\n",
       "        vertical-align: top;\n",
       "    }\n",
       "\n",
       "    .dataframe thead th {\n",
       "        text-align: right;\n",
       "    }\n",
       "</style>\n",
       "<table border=\"1\" class=\"dataframe\">\n",
       "  <thead>\n",
       "    <tr style=\"text-align: right;\">\n",
       "      <th></th>\n",
       "      <th>count</th>\n",
       "      <th>mean</th>\n",
       "      <th>std</th>\n",
       "      <th>min</th>\n",
       "      <th>25%</th>\n",
       "      <th>50%</th>\n",
       "      <th>75%</th>\n",
       "      <th>max</th>\n",
       "    </tr>\n",
       "  </thead>\n",
       "  <tbody>\n",
       "    <tr>\n",
       "      <th>BMI</th>\n",
       "      <td>319795.0</td>\n",
       "      <td>28.325399</td>\n",
       "      <td>6.356100</td>\n",
       "      <td>12.02</td>\n",
       "      <td>24.03</td>\n",
       "      <td>27.34</td>\n",
       "      <td>31.42</td>\n",
       "      <td>94.85</td>\n",
       "    </tr>\n",
       "    <tr>\n",
       "      <th>PhysicalHealth</th>\n",
       "      <td>319795.0</td>\n",
       "      <td>3.371710</td>\n",
       "      <td>7.950850</td>\n",
       "      <td>0.00</td>\n",
       "      <td>0.00</td>\n",
       "      <td>0.00</td>\n",
       "      <td>2.00</td>\n",
       "      <td>30.00</td>\n",
       "    </tr>\n",
       "    <tr>\n",
       "      <th>MentalHealth</th>\n",
       "      <td>319795.0</td>\n",
       "      <td>3.898366</td>\n",
       "      <td>7.955235</td>\n",
       "      <td>0.00</td>\n",
       "      <td>0.00</td>\n",
       "      <td>0.00</td>\n",
       "      <td>3.00</td>\n",
       "      <td>30.00</td>\n",
       "    </tr>\n",
       "    <tr>\n",
       "      <th>SleepTime</th>\n",
       "      <td>319795.0</td>\n",
       "      <td>7.097075</td>\n",
       "      <td>1.436007</td>\n",
       "      <td>1.00</td>\n",
       "      <td>6.00</td>\n",
       "      <td>7.00</td>\n",
       "      <td>8.00</td>\n",
       "      <td>24.00</td>\n",
       "    </tr>\n",
       "  </tbody>\n",
       "</table>\n",
       "</div>"
      ],
      "text/plain": [
       "                   count       mean       std    min    25%    50%    75%  \\\n",
       "BMI             319795.0  28.325399  6.356100  12.02  24.03  27.34  31.42   \n",
       "PhysicalHealth  319795.0   3.371710  7.950850   0.00   0.00   0.00   2.00   \n",
       "MentalHealth    319795.0   3.898366  7.955235   0.00   0.00   0.00   3.00   \n",
       "SleepTime       319795.0   7.097075  1.436007   1.00   6.00   7.00   8.00   \n",
       "\n",
       "                  max  \n",
       "BMI             94.85  \n",
       "PhysicalHealth  30.00  \n",
       "MentalHealth    30.00  \n",
       "SleepTime       24.00  "
      ]
     },
     "execution_count": 8,
     "metadata": {},
     "output_type": "execute_result"
    }
   ],
   "source": [
    "# Get some summary stats\n",
    "heart_raw.describe().T"
   ]
  },
  {
   "cell_type": "code",
   "execution_count": 9,
   "id": "7356b336",
   "metadata": {
    "ExecuteTime": {
     "end_time": "2022-04-13T19:45:08.377489Z",
     "start_time": "2022-04-13T19:45:08.266464Z"
    }
   },
   "outputs": [
    {
     "data": {
      "text/plain": [
       "HeartDisease        False\n",
       "BMI                 False\n",
       "Smoking             False\n",
       "AlcoholDrinking     False\n",
       "Stroke              False\n",
       "PhysicalHealth      False\n",
       "MentalHealth        False\n",
       "DiffWalking         False\n",
       "Sex                 False\n",
       "AgeCategory         False\n",
       "Race                False\n",
       "Diabetic            False\n",
       "PhysicalActivity    False\n",
       "GenHealth           False\n",
       "SleepTime           False\n",
       "Asthma              False\n",
       "KidneyDisease       False\n",
       "SkinCancer          False\n",
       "dtype: bool"
      ]
     },
     "execution_count": 9,
     "metadata": {},
     "output_type": "execute_result"
    }
   ],
   "source": [
    "# Check if there are any null values\n",
    "heart_raw.isnull().any()"
   ]
  },
  {
   "cell_type": "markdown",
   "id": "5e3a2750",
   "metadata": {},
   "source": [
    "- The fact that there are no nulls is quite an ideal scenario. We won't have to perform any data imputations!"
   ]
  },
  {
   "cell_type": "code",
   "execution_count": 10,
   "id": "13decc9e",
   "metadata": {
    "ExecuteTime": {
     "end_time": "2022-04-13T19:45:08.567531Z",
     "start_time": "2022-04-13T19:45:08.379490Z"
    }
   },
   "outputs": [
    {
     "name": "stdout",
     "output_type": "stream",
     "text": [
      "Column: HeartDisease. Values:\n",
      "No     292422\n",
      "Yes     27373\n",
      "Name: HeartDisease, dtype: int64 \n",
      "\n",
      "Column: Smoking. Values:\n",
      "No     187887\n",
      "Yes    131908\n",
      "Name: Smoking, dtype: int64 \n",
      "\n",
      "Column: AlcoholDrinking. Values:\n",
      "No     298018\n",
      "Yes     21777\n",
      "Name: AlcoholDrinking, dtype: int64 \n",
      "\n",
      "Column: Stroke. Values:\n",
      "No     307726\n",
      "Yes     12069\n",
      "Name: Stroke, dtype: int64 \n",
      "\n",
      "Column: DiffWalking. Values:\n",
      "No     275385\n",
      "Yes     44410\n",
      "Name: DiffWalking, dtype: int64 \n",
      "\n",
      "Column: Sex. Values:\n",
      "Female    167805\n",
      "Male      151990\n",
      "Name: Sex, dtype: int64 \n",
      "\n",
      "Column: AgeCategory. Values:\n",
      "65-69          34151\n",
      "60-64          33686\n",
      "70-74          31065\n",
      "55-59          29757\n",
      "50-54          25382\n",
      "80 or older    24153\n",
      "45-49          21791\n",
      "75-79          21482\n",
      "18-24          21064\n",
      "40-44          21006\n",
      "35-39          20550\n",
      "30-34          18753\n",
      "25-29          16955\n",
      "Name: AgeCategory, dtype: int64 \n",
      "\n",
      "Column: Race. Values:\n",
      "White                             245212\n",
      "Hispanic                           27446\n",
      "Black                              22939\n",
      "Other                              10928\n",
      "Asian                               8068\n",
      "American Indian/Alaskan Native      5202\n",
      "Name: Race, dtype: int64 \n",
      "\n",
      "Column: Diabetic. Values:\n",
      "No                         269653\n",
      "Yes                         40802\n",
      "No, borderline diabetes      6781\n",
      "Yes (during pregnancy)       2559\n",
      "Name: Diabetic, dtype: int64 \n",
      "\n",
      "Column: PhysicalActivity. Values:\n",
      "Yes    247957\n",
      "No      71838\n",
      "Name: PhysicalActivity, dtype: int64 \n",
      "\n",
      "Column: GenHealth. Values:\n",
      "Very good    113858\n",
      "Good          93129\n",
      "Excellent     66842\n",
      "Fair          34677\n",
      "Poor          11289\n",
      "Name: GenHealth, dtype: int64 \n",
      "\n",
      "Column: Asthma. Values:\n",
      "No     276923\n",
      "Yes     42872\n",
      "Name: Asthma, dtype: int64 \n",
      "\n",
      "Column: KidneyDisease. Values:\n",
      "No     308016\n",
      "Yes     11779\n",
      "Name: KidneyDisease, dtype: int64 \n",
      "\n",
      "Column: SkinCancer. Values:\n",
      "No     289976\n",
      "Yes     29819\n",
      "Name: SkinCancer, dtype: int64 \n",
      "\n"
     ]
    }
   ],
   "source": [
    "# Let's look at value of our categorical columns\n",
    "for col in heart_raw.select_dtypes(include='object').columns:\n",
    "    print('Column: {}. Values:\\n{} \\n'.format(col,heart_raw[col].value_counts()))"
   ]
  },
  {
   "cell_type": "markdown",
   "id": "3d37be3c",
   "metadata": {
    "ExecuteTime": {
     "end_time": "2022-04-03T02:14:33.568841Z",
     "start_time": "2022-04-03T02:14:33.545987Z"
    }
   },
   "source": [
    "- The very first thing we notice is that the we have an imbalanced classification problem. Only about 8.5% of instances do not have a heart disease.\n",
    "- Next, the earlier observation around having bunch of boolean column checks out except that 'Diabetic' has classes which can be reduced to 2 pending some EDA."
   ]
  },
  {
   "cell_type": "markdown",
   "id": "9c196f45",
   "metadata": {},
   "source": [
    "- There are no nulls in the dataset"
   ]
  },
  {
   "cell_type": "code",
   "execution_count": 11,
   "id": "c22ff79d",
   "metadata": {
    "ExecuteTime": {
     "end_time": "2022-04-13T19:45:08.774578Z",
     "start_time": "2022-04-13T19:45:08.568532Z"
    }
   },
   "outputs": [],
   "source": [
    "# Our boolean variables need to be converted to 1s and 0s for better EDA/modeling\n",
    "boolean_cols = [\"HeartDisease\", \"Smoking\", \"AlcoholDrinking\", \n",
    "                \"Stroke\", \"DiffWalking\", \"PhysicalActivity\", \n",
    "                \"Asthma\", \"KidneyDisease\", \"SkinCancer\"] # \n",
    "\n",
    "heart_raw[boolean_cols] = heart_raw[boolean_cols].apply(lambda x: x.map({'Yes':1,'No':0}))"
   ]
  },
  {
   "cell_type": "markdown",
   "id": "d707fa94",
   "metadata": {},
   "source": [
    "## Diabetic  vs HeartDisease"
   ]
  },
  {
   "cell_type": "code",
   "execution_count": 12,
   "id": "1445722f",
   "metadata": {
    "ExecuteTime": {
     "end_time": "2022-04-13T19:45:08.805586Z",
     "start_time": "2022-04-13T19:45:08.775578Z"
    }
   },
   "outputs": [
    {
     "data": {
      "text/html": [
       "<div>\n",
       "<style scoped>\n",
       "    .dataframe tbody tr th:only-of-type {\n",
       "        vertical-align: middle;\n",
       "    }\n",
       "\n",
       "    .dataframe tbody tr th {\n",
       "        vertical-align: top;\n",
       "    }\n",
       "\n",
       "    .dataframe thead th {\n",
       "        text-align: right;\n",
       "    }\n",
       "</style>\n",
       "<table border=\"1\" class=\"dataframe\">\n",
       "  <thead>\n",
       "    <tr style=\"text-align: right;\">\n",
       "      <th></th>\n",
       "      <th>Diabetic</th>\n",
       "      <th>HeartDisease</th>\n",
       "      <th>size</th>\n",
       "      <th>perc</th>\n",
       "    </tr>\n",
       "  </thead>\n",
       "  <tbody>\n",
       "    <tr>\n",
       "      <th>0</th>\n",
       "      <td>No</td>\n",
       "      <td>0</td>\n",
       "      <td>252134</td>\n",
       "      <td>94.0</td>\n",
       "    </tr>\n",
       "    <tr>\n",
       "      <th>1</th>\n",
       "      <td>No</td>\n",
       "      <td>1</td>\n",
       "      <td>17519</td>\n",
       "      <td>6.0</td>\n",
       "    </tr>\n",
       "    <tr>\n",
       "      <th>2</th>\n",
       "      <td>No, borderline diabetes</td>\n",
       "      <td>0</td>\n",
       "      <td>5992</td>\n",
       "      <td>88.0</td>\n",
       "    </tr>\n",
       "    <tr>\n",
       "      <th>3</th>\n",
       "      <td>No, borderline diabetes</td>\n",
       "      <td>1</td>\n",
       "      <td>789</td>\n",
       "      <td>12.0</td>\n",
       "    </tr>\n",
       "    <tr>\n",
       "      <th>4</th>\n",
       "      <td>Yes</td>\n",
       "      <td>0</td>\n",
       "      <td>31845</td>\n",
       "      <td>78.0</td>\n",
       "    </tr>\n",
       "    <tr>\n",
       "      <th>5</th>\n",
       "      <td>Yes</td>\n",
       "      <td>1</td>\n",
       "      <td>8957</td>\n",
       "      <td>22.0</td>\n",
       "    </tr>\n",
       "    <tr>\n",
       "      <th>6</th>\n",
       "      <td>Yes (during pregnancy)</td>\n",
       "      <td>0</td>\n",
       "      <td>2451</td>\n",
       "      <td>96.0</td>\n",
       "    </tr>\n",
       "    <tr>\n",
       "      <th>7</th>\n",
       "      <td>Yes (during pregnancy)</td>\n",
       "      <td>1</td>\n",
       "      <td>108</td>\n",
       "      <td>4.0</td>\n",
       "    </tr>\n",
       "  </tbody>\n",
       "</table>\n",
       "</div>"
      ],
      "text/plain": [
       "                  Diabetic  HeartDisease    size  perc\n",
       "0                       No             0  252134  94.0\n",
       "1                       No             1   17519   6.0\n",
       "2  No, borderline diabetes             0    5992  88.0\n",
       "3  No, borderline diabetes             1     789  12.0\n",
       "4                      Yes             0   31845  78.0\n",
       "5                      Yes             1    8957  22.0\n",
       "6   Yes (during pregnancy)             0    2451  96.0\n",
       "7   Yes (during pregnancy)             1     108   4.0"
      ]
     },
     "execution_count": 12,
     "metadata": {},
     "output_type": "execute_result"
    }
   ],
   "source": [
    "# Create a dataframe \n",
    "diabetic_heartDisease = heart_raw.groupby(['Diabetic','HeartDisease'],as_index=0).size()\n",
    "diabetic_heartDisease['perc'] = diabetic_heartDisease.groupby('Diabetic')['size'].apply(lambda x: round(x/x.sum()*100))\n",
    "diabetic_heartDisease"
   ]
  },
  {
   "cell_type": "markdown",
   "id": "f29cec45",
   "metadata": {
    "ExecuteTime": {
     "end_time": "2022-04-03T03:32:02.201529Z",
     "start_time": "2022-04-03T03:32:02.096269Z"
    }
   },
   "source": [
    "- Given that the class distribution for `Yes` and `Yes(during pregnancy)` looks quite different, it makes sense to keep the labels separate and not combine them. Further, we won't combine the negative classes as well."
   ]
  },
  {
   "cell_type": "markdown",
   "id": "8de1cb06",
   "metadata": {},
   "source": [
    "## Correlation b/w numeric variables\n",
    "\n",
    "- We want to look at the correlation between numeric variables. 2 highly correlated variables might be at a risk of providing similar info and we can consider removing one, if the numbers suggest."
   ]
  },
  {
   "cell_type": "code",
   "execution_count": 13,
   "id": "837ce76c",
   "metadata": {
    "ExecuteTime": {
     "end_time": "2022-04-13T19:45:09.330704Z",
     "start_time": "2022-04-13T19:45:08.806586Z"
    }
   },
   "outputs": [
    {
     "data": {
      "image/png": "[encoded data removed]",
      "text/plain": [
       "<Figure size 864x576 with 2 Axes>"
      ]
     },
     "metadata": {
      "needs_background": "light"
     },
     "output_type": "display_data"
    }
   ],
   "source": [
    "# Calc correlation matrix\n",
    "corr_mat = heart_raw.corr().round(2)\n",
    "\n",
    "# Set plot size\n",
    "plt.subplots(figsize=(12,8))\n",
    "\n",
    "# Plot heatmap\n",
    "sns.heatmap(corr_mat, \n",
    "            square=True, \n",
    "            robust=True, \n",
    "            cmap='OrRd', # use orange/red colour map\n",
    "            cbar_kws={'fraction' : 0.01}, # shrink colour bar\n",
    "            linewidth=1,\n",
    "            annot = True); # space between cells"
   ]
  },
  {
   "cell_type": "markdown",
   "id": "35366ae3",
   "metadata": {
    "ExecuteTime": {
     "end_time": "2022-04-11T17:50:10.417631Z",
     "start_time": "2022-04-11T17:50:10.401627Z"
    }
   },
   "source": [
    "- Looking at the correlation, nothing major stands out. There is some positive correlation between Physical and mental health as well as physical health and walking but it doesn't merit any further data manupulation."
   ]
  },
  {
   "cell_type": "code",
   "execution_count": null,
   "id": "48053d03",
   "metadata": {
    "ExecuteTime": {
     "end_time": "2022-04-11T17:59:21.749106Z",
     "start_time": "2022-04-11T17:59:21.280710Z"
    }
   },
   "outputs": [],
   "source": []
  },
  {
   "cell_type": "code",
   "execution_count": 14,
   "id": "7ab799b9",
   "metadata": {
    "ExecuteTime": {
     "end_time": "2022-04-13T19:45:09.346708Z",
     "start_time": "2022-04-13T19:45:09.331704Z"
    }
   },
   "outputs": [
    {
     "data": {
      "text/html": [
       "<div>\n",
       "<style scoped>\n",
       "    .dataframe tbody tr th:only-of-type {\n",
       "        vertical-align: middle;\n",
       "    }\n",
       "\n",
       "    .dataframe tbody tr th {\n",
       "        vertical-align: top;\n",
       "    }\n",
       "\n",
       "    .dataframe thead th {\n",
       "        text-align: right;\n",
       "    }\n",
       "</style>\n",
       "<table border=\"1\" class=\"dataframe\">\n",
       "  <thead>\n",
       "    <tr style=\"text-align: right;\">\n",
       "      <th></th>\n",
       "      <th>HeartDisease</th>\n",
       "      <th>BMI</th>\n",
       "      <th>Smoking</th>\n",
       "      <th>AlcoholDrinking</th>\n",
       "      <th>Stroke</th>\n",
       "      <th>PhysicalHealth</th>\n",
       "      <th>MentalHealth</th>\n",
       "      <th>DiffWalking</th>\n",
       "      <th>Sex</th>\n",
       "      <th>AgeCategory</th>\n",
       "      <th>Race</th>\n",
       "      <th>Diabetic</th>\n",
       "      <th>PhysicalActivity</th>\n",
       "      <th>GenHealth</th>\n",
       "      <th>SleepTime</th>\n",
       "      <th>Asthma</th>\n",
       "      <th>KidneyDisease</th>\n",
       "      <th>SkinCancer</th>\n",
       "    </tr>\n",
       "  </thead>\n",
       "  <tbody>\n",
       "    <tr>\n",
       "      <th>0</th>\n",
       "      <td>0</td>\n",
       "      <td>16.60</td>\n",
       "      <td>1</td>\n",
       "      <td>0</td>\n",
       "      <td>0</td>\n",
       "      <td>3.0</td>\n",
       "      <td>30.0</td>\n",
       "      <td>0</td>\n",
       "      <td>Female</td>\n",
       "      <td>55-59</td>\n",
       "      <td>White</td>\n",
       "      <td>Yes</td>\n",
       "      <td>1</td>\n",
       "      <td>Very good</td>\n",
       "      <td>5.0</td>\n",
       "      <td>1</td>\n",
       "      <td>0</td>\n",
       "      <td>1</td>\n",
       "    </tr>\n",
       "    <tr>\n",
       "      <th>1</th>\n",
       "      <td>0</td>\n",
       "      <td>20.34</td>\n",
       "      <td>0</td>\n",
       "      <td>0</td>\n",
       "      <td>1</td>\n",
       "      <td>0.0</td>\n",
       "      <td>0.0</td>\n",
       "      <td>0</td>\n",
       "      <td>Female</td>\n",
       "      <td>80 or older</td>\n",
       "      <td>White</td>\n",
       "      <td>No</td>\n",
       "      <td>1</td>\n",
       "      <td>Very good</td>\n",
       "      <td>7.0</td>\n",
       "      <td>0</td>\n",
       "      <td>0</td>\n",
       "      <td>0</td>\n",
       "    </tr>\n",
       "  </tbody>\n",
       "</table>\n",
       "</div>"
      ],
      "text/plain": [
       "   HeartDisease    BMI  Smoking  AlcoholDrinking  Stroke  PhysicalHealth  \\\n",
       "0             0  16.60        1                0       0             3.0   \n",
       "1             0  20.34        0                0       1             0.0   \n",
       "\n",
       "   MentalHealth  DiffWalking     Sex  AgeCategory   Race Diabetic  \\\n",
       "0          30.0            0  Female        55-59  White      Yes   \n",
       "1           0.0            0  Female  80 or older  White       No   \n",
       "\n",
       "   PhysicalActivity  GenHealth  SleepTime  Asthma  KidneyDisease  SkinCancer  \n",
       "0                 1  Very good        5.0       1              0           1  \n",
       "1                 1  Very good        7.0       0              0           0  "
      ]
     },
     "execution_count": 14,
     "metadata": {},
     "output_type": "execute_result"
    }
   ],
   "source": [
    "heart_raw.head(2)"
   ]
  },
  {
   "cell_type": "markdown",
   "id": "610b5464",
   "metadata": {},
   "source": [
    "## Bivariate Analysis\n",
    "- Let's compare heart disease to a few categorical variables to understand the data better. We might use these insights for feature engineering.\n",
    "- Let's create a few utility functions however."
   ]
  },
  {
   "cell_type": "code",
   "execution_count": 15,
   "id": "e5a8120d",
   "metadata": {
    "ExecuteTime": {
     "end_time": "2022-04-13T19:45:09.362712Z",
     "start_time": "2022-04-13T19:45:09.347708Z"
    }
   },
   "outputs": [],
   "source": [
    "def countplot(hue='Sex'):\n",
    "    # Setting plot area\n",
    "    f, ax = plt.subplots(figsize=(6, 6))\n",
    "\n",
    "    # plotting the distribution\n",
    "    sns.countplot(data = heart_raw,\n",
    "                  x = 'HeartDisease',\n",
    "                  hue=hue)\n",
    "    # Set Title\n",
    "    ax.set(title=\"Distribution of HeartDisease rate by {}\".format(hue))\n",
    "    plt.show()"
   ]
  },
  {
   "cell_type": "code",
   "execution_count": 16,
   "id": "4bcbb579",
   "metadata": {
    "ExecuteTime": {
     "end_time": "2022-04-13T19:45:09.378715Z",
     "start_time": "2022-04-13T19:45:09.363712Z"
    }
   },
   "outputs": [],
   "source": [
    "# Create a dataframe\n",
    "def grouped_perc(group_by_var = 'Diabetic'):\n",
    "    # Create a grouped df\n",
    "    grouped_df = heart_raw.groupby([group_by_var,'HeartDisease'],as_index=0).size()\n",
    "    # Calc percentage\n",
    "    grouped_df['perc_by_group'] = grouped_df.groupby(group_by_var)['size'].apply(lambda x: round(x/x.sum()*100))\n",
    "    \n",
    "    return grouped_df"
   ]
  },
  {
   "cell_type": "markdown",
   "id": "7ca4a874",
   "metadata": {},
   "source": [
    "### Race vs HeartDisease"
   ]
  },
  {
   "cell_type": "code",
   "execution_count": 17,
   "id": "9001e0b2",
   "metadata": {
    "ExecuteTime": {
     "end_time": "2022-04-13T19:45:09.601765Z",
     "start_time": "2022-04-13T19:45:09.379716Z"
    }
   },
   "outputs": [
    {
     "data": {
      "image/png": "[encoded data removed]",
      "text/plain": [
       "<Figure size 432x432 with 1 Axes>"
      ]
     },
     "metadata": {
      "needs_background": "light"
     },
     "output_type": "display_data"
    }
   ],
   "source": [
    "# Look at distribution\n",
    "countplot('Race')"
   ]
  },
  {
   "cell_type": "markdown",
   "id": "d1611985",
   "metadata": {
    "ExecuteTime": {
     "end_time": "2022-04-12T01:13:20.391080Z",
     "start_time": "2022-04-12T01:13:20.362072Z"
    }
   },
   "source": [
    "- This distribution is severely skewed since the overwhelming majority of our samples are White americans.\n",
    "- It might be worthwhile to look at the numbers themselves."
   ]
  },
  {
   "cell_type": "code",
   "execution_count": 18,
   "id": "85877ce8",
   "metadata": {
    "ExecuteTime": {
     "end_time": "2022-04-13T19:45:09.633773Z",
     "start_time": "2022-04-13T19:45:09.602765Z"
    }
   },
   "outputs": [
    {
     "data": {
      "text/html": [
       "<div>\n",
       "<style scoped>\n",
       "    .dataframe tbody tr th:only-of-type {\n",
       "        vertical-align: middle;\n",
       "    }\n",
       "\n",
       "    .dataframe tbody tr th {\n",
       "        vertical-align: top;\n",
       "    }\n",
       "\n",
       "    .dataframe thead th {\n",
       "        text-align: right;\n",
       "    }\n",
       "</style>\n",
       "<table border=\"1\" class=\"dataframe\">\n",
       "  <thead>\n",
       "    <tr style=\"text-align: right;\">\n",
       "      <th></th>\n",
       "      <th>Race</th>\n",
       "      <th>HeartDisease</th>\n",
       "      <th>size</th>\n",
       "      <th>perc_by_group</th>\n",
       "    </tr>\n",
       "  </thead>\n",
       "  <tbody>\n",
       "    <tr>\n",
       "      <th>0</th>\n",
       "      <td>American Indian/Alaskan Native</td>\n",
       "      <td>0</td>\n",
       "      <td>4660</td>\n",
       "      <td>90.0</td>\n",
       "    </tr>\n",
       "    <tr>\n",
       "      <th>1</th>\n",
       "      <td>American Indian/Alaskan Native</td>\n",
       "      <td>1</td>\n",
       "      <td>542</td>\n",
       "      <td>10.0</td>\n",
       "    </tr>\n",
       "    <tr>\n",
       "      <th>2</th>\n",
       "      <td>Asian</td>\n",
       "      <td>0</td>\n",
       "      <td>7802</td>\n",
       "      <td>97.0</td>\n",
       "    </tr>\n",
       "    <tr>\n",
       "      <th>3</th>\n",
       "      <td>Asian</td>\n",
       "      <td>1</td>\n",
       "      <td>266</td>\n",
       "      <td>3.0</td>\n",
       "    </tr>\n",
       "    <tr>\n",
       "      <th>4</th>\n",
       "      <td>Black</td>\n",
       "      <td>0</td>\n",
       "      <td>21210</td>\n",
       "      <td>92.0</td>\n",
       "    </tr>\n",
       "    <tr>\n",
       "      <th>5</th>\n",
       "      <td>Black</td>\n",
       "      <td>1</td>\n",
       "      <td>1729</td>\n",
       "      <td>8.0</td>\n",
       "    </tr>\n",
       "    <tr>\n",
       "      <th>6</th>\n",
       "      <td>Hispanic</td>\n",
       "      <td>0</td>\n",
       "      <td>26003</td>\n",
       "      <td>95.0</td>\n",
       "    </tr>\n",
       "    <tr>\n",
       "      <th>7</th>\n",
       "      <td>Hispanic</td>\n",
       "      <td>1</td>\n",
       "      <td>1443</td>\n",
       "      <td>5.0</td>\n",
       "    </tr>\n",
       "    <tr>\n",
       "      <th>8</th>\n",
       "      <td>Other</td>\n",
       "      <td>0</td>\n",
       "      <td>10042</td>\n",
       "      <td>92.0</td>\n",
       "    </tr>\n",
       "    <tr>\n",
       "      <th>9</th>\n",
       "      <td>Other</td>\n",
       "      <td>1</td>\n",
       "      <td>886</td>\n",
       "      <td>8.0</td>\n",
       "    </tr>\n",
       "    <tr>\n",
       "      <th>10</th>\n",
       "      <td>White</td>\n",
       "      <td>0</td>\n",
       "      <td>222705</td>\n",
       "      <td>91.0</td>\n",
       "    </tr>\n",
       "    <tr>\n",
       "      <th>11</th>\n",
       "      <td>White</td>\n",
       "      <td>1</td>\n",
       "      <td>22507</td>\n",
       "      <td>9.0</td>\n",
       "    </tr>\n",
       "  </tbody>\n",
       "</table>\n",
       "</div>"
      ],
      "text/plain": [
       "                              Race  HeartDisease    size  perc_by_group\n",
       "0   American Indian/Alaskan Native             0    4660           90.0\n",
       "1   American Indian/Alaskan Native             1     542           10.0\n",
       "2                            Asian             0    7802           97.0\n",
       "3                            Asian             1     266            3.0\n",
       "4                            Black             0   21210           92.0\n",
       "5                            Black             1    1729            8.0\n",
       "6                         Hispanic             0   26003           95.0\n",
       "7                         Hispanic             1    1443            5.0\n",
       "8                            Other             0   10042           92.0\n",
       "9                            Other             1     886            8.0\n",
       "10                           White             0  222705           91.0\n",
       "11                           White             1   22507            9.0"
      ]
     },
     "execution_count": 18,
     "metadata": {},
     "output_type": "execute_result"
    }
   ],
   "source": [
    "grouped_perc('Race')"
   ]
  },
  {
   "cell_type": "markdown",
   "id": "9656905b",
   "metadata": {},
   "source": [
    "- The percentage distribution for folks who have a heart disease and those who don't doesn't seem to vary a whole lot. \n",
    "- Most races have around ~90% of folks who don't seem to have heart disease except Asians where that split is 97:3. This is important information but bearing in mind that the sample set for Asians is small."
   ]
  },
  {
   "cell_type": "markdown",
   "id": "8d1bbad8",
   "metadata": {},
   "source": [
    "### Sex Vs HeartDisease"
   ]
  },
  {
   "cell_type": "code",
   "execution_count": 19,
   "id": "08941757",
   "metadata": {
    "ExecuteTime": {
     "end_time": "2022-04-13T19:45:09.792809Z",
     "start_time": "2022-04-13T19:45:09.634773Z"
    }
   },
   "outputs": [
    {
     "data": {
      "image/png": "[encoded data removed]",
      "text/plain": [
       "<Figure size 432x432 with 1 Axes>"
      ]
     },
     "metadata": {
      "needs_background": "light"
     },
     "output_type": "display_data"
    }
   ],
   "source": [
    "# Look at distribution\n",
    "countplot('Sex')"
   ]
  },
  {
   "cell_type": "markdown",
   "id": "13cac207",
   "metadata": {},
   "source": [
    "- As per this dataset, males are slightly more prone to heart disease than females."
   ]
  },
  {
   "cell_type": "markdown",
   "id": "dc1e9b81",
   "metadata": {},
   "source": [
    "### AgeCategory vs HeartDisease"
   ]
  },
  {
   "cell_type": "code",
   "execution_count": 20,
   "id": "e2c26de5",
   "metadata": {
    "ExecuteTime": {
     "end_time": "2022-04-13T19:45:10.127884Z",
     "start_time": "2022-04-13T19:45:09.793809Z"
    }
   },
   "outputs": [
    {
     "data": {
      "image/png": "[encoded data removed]",
      "text/plain": [
       "<Figure size 432x432 with 1 Axes>"
      ]
     },
     "metadata": {
      "needs_background": "light"
     },
     "output_type": "display_data"
    }
   ],
   "source": [
    "# Look at distribution\n",
    "countplot('AgeCategory')"
   ]
  },
  {
   "cell_type": "markdown",
   "id": "5cdfc5d9",
   "metadata": {},
   "source": [
    "- Not the most ideal graph but if we look closely, folks who have a heart disease typically tend to be more than 60 year of age. \n",
    "- This is an important indicator but we have multiple groups above 60 and the class boundary for each group might become fuzzy. I am almost inclined to create a variable where we have group these age brackets and have fewer groups. This will reduce unnecesary columns being created during one hot encoding in the future.\n",
    "- We can create 3 broader groups:\n",
    "    - 18-44\n",
    "    - 45-60\n",
    "    - 60+"
   ]
  },
  {
   "cell_type": "code",
   "execution_count": 21,
   "id": "5fa596da",
   "metadata": {
    "ExecuteTime": {
     "end_time": "2022-04-13T19:45:10.143887Z",
     "start_time": "2022-04-13T19:45:10.128885Z"
    }
   },
   "outputs": [],
   "source": [
    "# Create a dictionary with broader grouping\n",
    "age_mapping = {'18-24':'18-44','25-29':'18-44','30-34':'18-44','35-39':'18-44','40-44':'18-44',\n",
    "              '45-49':'45-60','50-54':'45-60','55-59':'45-60',\n",
    "              '60-64':'60+','65-69':'60+','70-74':'60+','75-79':'60+','80 or older':'60+'}"
   ]
  },
  {
   "cell_type": "code",
   "execution_count": 22,
   "id": "2492ab87",
   "metadata": {
    "ExecuteTime": {
     "end_time": "2022-04-13T19:45:10.159891Z",
     "start_time": "2022-04-13T19:45:10.144888Z"
    }
   },
   "outputs": [],
   "source": [
    "# Create a new column\n",
    "heart_raw['AgeCategory_grouped'] = heart_raw['AgeCategory'].map(age_mapping)"
   ]
  },
  {
   "cell_type": "markdown",
   "id": "b5867242",
   "metadata": {
    "ExecuteTime": {
     "end_time": "2022-04-12T01:47:05.587060Z",
     "start_time": "2022-04-12T01:47:05.562053Z"
    }
   },
   "source": [
    "### GenHealth vs HeartDisease"
   ]
  },
  {
   "cell_type": "code",
   "execution_count": 23,
   "id": "42cc8600",
   "metadata": {
    "ExecuteTime": {
     "end_time": "2022-04-13T19:45:10.367939Z",
     "start_time": "2022-04-13T19:45:10.160892Z"
    }
   },
   "outputs": [
    {
     "data": {
      "image/png": "[encoded data removed]",
      "text/plain": [
       "<Figure size 432x432 with 1 Axes>"
      ]
     },
     "metadata": {
      "needs_background": "light"
     },
     "output_type": "display_data"
    }
   ],
   "source": [
    "# Look at distribution\n",
    "countplot('GenHealth')"
   ]
  },
  {
   "cell_type": "markdown",
   "id": "fed06ac6",
   "metadata": {},
   "source": [
    "- So for context, folks were asked how they would rate their personal health. So the responses we see above are one's opinion about oneself and not a doctor's opinion.\n",
    "- This is such a good illustration of personal blindspots. People who think their health is good,fair, or even very good tend to witness a higher proportion of heart disease. On the flipside, we can also make an argument that the sample sizes are heavily skewed and most people responded good/very good to this question. It's interesting nonetheless."
   ]
  },
  {
   "cell_type": "markdown",
   "id": "e5582a7c",
   "metadata": {},
   "source": [
    "# Data Processing + Test setup"
   ]
  },
  {
   "cell_type": "code",
   "execution_count": 24,
   "id": "75b79e70",
   "metadata": {
    "ExecuteTime": {
     "end_time": "2022-04-13T19:45:10.415950Z",
     "start_time": "2022-04-13T19:45:10.368938Z"
    }
   },
   "outputs": [],
   "source": [
    "# let's drop AgeCategory since we already created a new variable to capture that info\n",
    "heart_raw.drop('AgeCategory',axis=1,inplace=True)"
   ]
  },
  {
   "cell_type": "code",
   "execution_count": 25,
   "id": "24c0f408",
   "metadata": {
    "ExecuteTime": {
     "end_time": "2022-04-13T19:45:10.431953Z",
     "start_time": "2022-04-13T19:45:10.416950Z"
    }
   },
   "outputs": [],
   "source": [
    "# Separate features and labels\n",
    "X = heart_raw.drop('HeartDisease',axis=1)\n",
    "y = heart_raw['HeartDisease']"
   ]
  },
  {
   "cell_type": "code",
   "execution_count": 26,
   "id": "5312410d",
   "metadata": {
    "ExecuteTime": {
     "end_time": "2022-04-13T19:45:10.559982Z",
     "start_time": "2022-04-13T19:45:10.432954Z"
    }
   },
   "outputs": [],
   "source": [
    "# Since we are dealing with imbalanced classes, it is quite important to stratify while creating training/testing sets\n",
    "# split into train/test sets with same class ratio\n",
    "trainX, testX, trainy, testy = train_test_split(X,\n",
    "                                                y,\n",
    "                                                test_size = 0.2,\n",
    "                                                random_state = 42,\n",
    "                                                stratify = y)"
   ]
  },
  {
   "cell_type": "markdown",
   "id": "1af96ee5",
   "metadata": {},
   "source": [
    "- Now that we have created stratified training and testing sets, we can work on scaling numeric variables and one hot encoding categorical ones. Scaling should ideally be performed after train test split to avoid data leakage. We will create pipelines to do so."
   ]
  },
  {
   "cell_type": "code",
   "execution_count": 27,
   "id": "38ceb7f5",
   "metadata": {
    "ExecuteTime": {
     "end_time": "2022-04-13T19:45:10.575985Z",
     "start_time": "2022-04-13T19:45:10.560982Z"
    }
   },
   "outputs": [],
   "source": [
    "# create numerical and cateogrical pipelines\n",
    "num_pipeline = Pipeline([('scaler',StandardScaler())])\n",
    "cat_pipeine = Pipeline([('onehot',OneHotEncoder())])\n",
    "\n",
    "# list numeric variables that need to be transformed\n",
    "num_attrs = ['BMI','PhysicalHealth','MentalHealth','SleepTime']\n",
    "cat_attrs = ['Sex','Race','Diabetic','GenHealth','AgeCategory_grouped']\n",
    "\n",
    "full_pipeline = ColumnTransformer([\n",
    "                                    ('num',num_pipeline,num_attrs),\n",
    "                                    ('cat',cat_pipeine,cat_attrs),\n",
    "                                  ],\n",
    "                                    remainder='passthrough')"
   ]
  },
  {
   "cell_type": "code",
   "execution_count": 28,
   "id": "c6f26cea",
   "metadata": {
    "ExecuteTime": {
     "end_time": "2022-04-13T19:45:10.591989Z",
     "start_time": "2022-04-13T19:45:10.577986Z"
    }
   },
   "outputs": [],
   "source": [
    "# Transform training data\n",
    "#trainX = full_pipeline.fit_transform(trainX)"
   ]
  },
  {
   "cell_type": "markdown",
   "id": "c17c7751",
   "metadata": {
    "ExecuteTime": {
     "end_time": "2022-04-12T03:00:12.111907Z",
     "start_time": "2022-04-12T03:00:12.099904Z"
    }
   },
   "source": [
    "Next, we need to decide our evaluation metric. A classifier is only as good as it's evaluation metric.\n",
    "A few things to consider:\n",
    "1. Generally for a classification problem, `roc_auc` works just fine. But we are dealing with imabalanced classes and `roc_auc` could result in overly optimisitic results since even a slight change in predictions can have a large bearing on the false positives and negatives. \n",
    "\n",
    "\n",
    "2. The problem statement is to predict whether an individual is suffering from heart disease or not. This is very sensitive thing as it deals with people's health. We care a lot more about false negatives vs false positives. \n",
    "    - Imagine a scenario where someone is not suffering from heart disease but we predict they are. It isn't ideal but there's always a possibility to follow this up with further tests and there's really a problem. \n",
    "    - Now, imagine a scenario where someone is suffering from a heart disease but we predict they are not. This person can just walk away and not be treated at all! \n",
    "    - The risk involved with such false negatives is thus much higher than false positives (assuming that the minority class is positive class). So we want a metric that places more weight on false negatives. \n",
    "    - We are interested in a metric that will summarize a model’s ability to minimize misclassification errors for the positive class, but we want to favor models that are better are minimizing false negatives over false positives.\n",
    "\n",
    "\n",
    "\n",
    "3. The f score is a good candidate in that regard. Particularly, f2 score is what we should optimize the model for since it weights recall more than precision. We can always look at the `roc_auc` as supplementary metric."
   ]
  },
  {
   "cell_type": "code",
   "execution_count": 29,
   "id": "a74fa9da",
   "metadata": {
    "ExecuteTime": {
     "end_time": "2022-04-13T19:45:10.607993Z",
     "start_time": "2022-04-13T19:45:10.592990Z"
    }
   },
   "outputs": [],
   "source": [
    "# Lets create a function that measures f2 score\n",
    "def f2_measure(y_true, y_pred):\n",
    "    return fbeta_score(y_true, y_pred, beta=2)"
   ]
  },
  {
   "cell_type": "markdown",
   "id": "0c295502",
   "metadata": {},
   "source": [
    "Now that we have our evaluation metric, let's create a model to perform Cross validation in a stratified way and provide scores. This will help us judge which model performs best "
   ]
  },
  {
   "cell_type": "code",
   "execution_count": 30,
   "id": "15db2ca6",
   "metadata": {
    "ExecuteTime": {
     "end_time": "2022-04-13T19:45:10.623997Z",
     "start_time": "2022-04-13T19:45:10.608994Z"
    }
   },
   "outputs": [],
   "source": [
    "# evaluate a model\n",
    "def evaluate_model(X=trainX, y=trainy, model = DummyClassifier(strategy='uniform'),\n",
    "                   n_splits=10,n_repeats=3):\n",
    "    \n",
    "    # define evaluation procedure\n",
    "    cv = RepeatedStratifiedKFold(n_splits=n_splits, n_repeats=n_repeats, random_state=42)\n",
    "    \n",
    "    # define the model evaluation metric\n",
    "    metric = make_scorer(f2_measure)\n",
    "    \n",
    "    # evaluate model\n",
    "    scores = cross_val_score(model, X, y, scoring=metric, cv=cv, n_jobs=-1)\n",
    "    return scores"
   ]
  },
  {
   "cell_type": "code",
   "execution_count": null,
   "id": "457a08e0",
   "metadata": {
    "ExecuteTime": {
     "end_time": "2022-04-12T23:57:02.965759Z",
     "start_time": "2022-04-12T23:57:00.206968Z"
    }
   },
   "outputs": [],
   "source": []
  },
  {
   "cell_type": "markdown",
   "id": "de34b1f3",
   "metadata": {
    "ExecuteTime": {
     "end_time": "2022-04-11T17:39:04.659213Z",
     "start_time": "2022-04-11T17:39:04.645205Z"
    }
   },
   "source": [
    "# Modeling"
   ]
  },
  {
   "cell_type": "markdown",
   "id": "5ef34206",
   "metadata": {
    "ExecuteTime": {
     "end_time": "2022-04-03T02:42:13.886321Z",
     "start_time": "2022-04-03T02:42:12.972011Z"
    }
   },
   "source": [
    "## Baseline using DummyClassifier"
   ]
  },
  {
   "cell_type": "code",
   "execution_count": 31,
   "id": "30bcb894",
   "metadata": {
    "ExecuteTime": {
     "end_time": "2022-04-13T19:45:10.640000Z",
     "start_time": "2022-04-13T19:45:10.624997Z"
    }
   },
   "outputs": [],
   "source": [
    "# define the reference model\n",
    "dummy = DummyClassifier(strategy='uniform')"
   ]
  },
  {
   "cell_type": "code",
   "execution_count": 32,
   "id": "64698e7f",
   "metadata": {
    "ExecuteTime": {
     "end_time": "2022-04-13T19:45:13.410559Z",
     "start_time": "2022-04-13T19:45:10.641001Z"
    }
   },
   "outputs": [
    {
     "name": "stdout",
     "output_type": "stream",
     "text": [
      "Mean F2: 0.253 (0.005)\n"
     ]
    }
   ],
   "source": [
    "# evaluate the model\n",
    "scores = evaluate_model(model=dummy)\n",
    "\n",
    "# summarize performance\n",
    "print('Mean F2: %.3f (%.3f)' % (np.mean(scores), np.std(scores)))"
   ]
  },
  {
   "cell_type": "markdown",
   "id": "cc43abf0",
   "metadata": {
    "ExecuteTime": {
     "end_time": "2022-04-12T22:18:50.944315Z",
     "start_time": "2022-04-12T22:18:49.522821Z"
    }
   },
   "source": [
    "- We have a mean F2 score of 0.25 on a dummy classifier. That is quite bad but will serve as a good baseline to judge improvement."
   ]
  },
  {
   "cell_type": "markdown",
   "id": "90f3a66c",
   "metadata": {
    "ExecuteTime": {
     "end_time": "2022-04-12T22:18:51.985409Z",
     "start_time": "2022-04-12T22:18:51.970405Z"
    }
   },
   "source": [
    "## Evaluate multiple models\n",
    "- Next, let's try out a mixture of models to get a sense of how they perform on this dataset. Do we see an improvement on the existing baseline or not?"
   ]
  },
  {
   "cell_type": "code",
   "execution_count": 53,
   "id": "e3237f79",
   "metadata": {
    "ExecuteTime": {
     "end_time": "2022-04-13T19:11:54.867404Z",
     "start_time": "2022-04-13T19:11:54.853774Z"
    }
   },
   "outputs": [],
   "source": [
    "# define models to test\n",
    "def get_models():\n",
    "    models, names = list(), list()\n",
    "    \n",
    "    # LR\n",
    "    models.append(LogisticRegression(solver='liblinear'))\n",
    "    names.append('LR')\n",
    "    \n",
    "    # LDA\n",
    "    models.append(LinearDiscriminantAnalysis())\n",
    "    names.append('LDA')\n",
    "    \n",
    "    # NB\n",
    "    models.append(GaussianNB())\n",
    "    names.append('NB')\n",
    "    \n",
    "    # GPC\n",
    "    models.append(GaussianProcessClassifier())\n",
    "    names.append('GPC')\n",
    "\n",
    "    # DecisionTree\n",
    "    models.append(DecisionTreeClassifier())\n",
    "    names.append('DecisionTree')\n",
    "    \n",
    "    # DecisionTree\n",
    "    models.append(RandomForestClassifier(max_depth=5))\n",
    "    names.append('RandomForestClassifier')\n",
    "    \n",
    "    return models, names"
   ]
  },
  {
   "cell_type": "code",
   "execution_count": 54,
   "id": "ead20f8d",
   "metadata": {
    "ExecuteTime": {
     "end_time": "2022-04-13T19:13:55.921110Z",
     "start_time": "2022-04-13T19:11:57.652935Z"
    }
   },
   "outputs": [
    {
     "name": "stdout",
     "output_type": "stream",
     "text": [
      ">LR 0.118 (0.006) (time: 10.7 seconds)\n",
      ">LDA 0.264 (0.007) (time: 11.6 seconds)\n",
      ">NB 0.466 (0.008) (time: 3.7 seconds)\n",
      ">GPC nan (nan) (time: 2.5 seconds)\n",
      ">DecisionTree 0.235 (0.009) (time: 10.2 seconds)\n",
      ">RandomForestClassifier 0.006 (0.002) (time: 79.5 seconds)\n"
     ]
    },
    {
     "data": {
      "image/png": "[encoded data removed]",
      "text/plain": [
       "<Figure size 432x288 with 1 Axes>"
      ]
     },
     "metadata": {
      "needs_background": "light"
     },
     "output_type": "display_data"
    }
   ],
   "source": [
    "# define models\n",
    "models, names = get_models()\n",
    "results = list()\n",
    "\n",
    "# evaluate each model\n",
    "for i in range(len(models)):\n",
    "    \n",
    "    start_time = time.time()\n",
    "    \n",
    "    # one hot encode categorical, normalize numerical\n",
    "    ct = ColumnTransformer([('c',OneHotEncoder(),cat_attrs), ('n',StandardScaler(),num_attrs)],\n",
    "                                    remainder='passthrough')\n",
    "    \n",
    "    # wrap the model in a pipeline\n",
    "    pipeline = Pipeline(steps=[('t',ct),('m',models[i])])\n",
    "    \n",
    "    # evaluate the model and store results\n",
    "    scores = evaluate_model(trainX, trainy, pipeline)\n",
    "    \n",
    "    # Append to results\n",
    "    results.append(scores)\n",
    "    \n",
    "    # summarize and store\n",
    "    print('>%s %.3f (%.3f) (time: %.1f seconds)' % (names[i], np.mean(scores), np.std(scores), (time.time() - start_time) ))\n",
    "\n",
    "# plot the results\n",
    "plt.boxplot(results, labels=names, showmeans=True)\n",
    "plt.show()"
   ]
  },
  {
   "cell_type": "markdown",
   "id": "4e519f03",
   "metadata": {},
   "source": [
    "## Evaluate sampling methods"
   ]
  },
  {
   "cell_type": "code",
   "execution_count": 39,
   "id": "22d5192f",
   "metadata": {
    "ExecuteTime": {
     "end_time": "2022-04-13T22:53:10.628187Z",
     "start_time": "2022-04-13T22:53:10.623186Z"
    }
   },
   "outputs": [],
   "source": [
    "# define undersampling/oversampling models to test\n",
    "def get_models():\n",
    "    models, names = list(), list()\n",
    "\n",
    "    # TL\n",
    "    models.append(TomekLinks())\n",
    "    names.append('TomekLink')\n",
    "    \n",
    "    # OSS\n",
    "    models.append(OneSidedSelection())\n",
    "    names.append('OSS')\n",
    "    \n",
    "    # SMOTE\n",
    "    models.append(SMOTE())\n",
    "    names.append('Smote')\n",
    "    \n",
    "    # SMOTE + TomekLink\n",
    "    models.append(SMOTETomek(tomek=TomekLinks(sampling_strategy='majority')))\n",
    "    names.append('SmoteTomek')\n",
    "    \n",
    "     # SMOTE + TomekLink\n",
    "    models.append(SMOTEENN(enn=EditedNearestNeighbours(sampling_strategy='majority')))\n",
    "    names.append('SmoteENN')\n",
    "    \n",
    "    return models, names"
   ]
  },
  {
   "cell_type": "code",
   "execution_count": null,
   "id": "eaef7119",
   "metadata": {
    "ExecuteTime": {
     "end_time": "2022-04-13T03:25:19.548385Z",
     "start_time": "2022-04-13T03:25:19.544384Z"
    }
   },
   "outputs": [],
   "source": []
  },
  {
   "cell_type": "code",
   "execution_count": 41,
   "id": "ae1aa70d",
   "metadata": {
    "ExecuteTime": {
     "end_time": "2022-04-14T03:35:49.950042Z",
     "start_time": "2022-04-14T01:45:59.540520Z"
    }
   },
   "outputs": [
    {
     "name": "stdout",
     "output_type": "stream",
     "text": [
      ">TomekLink 0.513 (0.003)\n",
      ">OSS 0.513 (0.003)\n",
      ">Smote 0.511 (0.003)\n",
      ">SmoteTomek 0.508 (0.002)\n",
      ">SmoteENN 0.506 (0.002)\n"
     ]
    },
    {
     "data": {
      "image/png": "[encoded data removed]",
      "text/plain": [
       "<Figure size 432x288 with 1 Axes>"
      ]
     },
     "metadata": {
      "needs_background": "light"
     },
     "output_type": "display_data"
    }
   ],
   "source": [
    "from imblearn.pipeline import Pipeline as Pipeline_imb\n",
    "\n",
    "# define models\n",
    "models, names = get_models()\n",
    "results = list()\n",
    "\n",
    "for i in range(len(models)):\n",
    "    \n",
    "    # define model to evaluate\n",
    "    model = LogisticRegression(solver='liblinear', class_weight='balanced')\n",
    "    #LogisticRegression(solver='liblinear', class_weight='balanced')\n",
    "    # GaussianNB()\n",
    "    \n",
    "    # one hot encode categorical, normalize numerical\n",
    "    ct = ColumnTransformer([ \n",
    "                            ('c',OneHotEncoder(),cat_attrs), \n",
    "                            ('n',StandardScaler(),num_attrs)],\n",
    "                remainder='passthrough')\n",
    "    \n",
    "    # wrap the model in a pipeline\n",
    "    pipeline = Pipeline_imb(steps=[('t',ct), ('s', models[i]), ('m',model)] ) \n",
    "    \n",
    "    # evaluate the model and store results\n",
    "    scores = evaluate_model(trainX, trainy, pipeline,n_splits=3,n_repeats=2)\n",
    "    \n",
    "    # Append\n",
    "    results.append(scores)\n",
    "    \n",
    "    # summarize and store\n",
    "    print('>%s %.3f (%.3f)' % (names[i], np.mean(scores), np.std(scores)))\n",
    "    \n",
    "# plot the results\n",
    "plt.boxplot(results, labels=names, showmeans=True)\n",
    "plt.show()"
   ]
  },
  {
   "cell_type": "raw",
   "id": "3351012e",
   "metadata": {
    "ExecuteTime": {
     "end_time": "2022-04-13T00:59:49.662476Z",
     "start_time": "2022-04-13T00:59:49.656530Z"
    }
   },
   "source": [
    ">TomekLink 0.469 (0.004)\n",
    ">OSS 0.468 (0.004)\n",
    ">Smote 0.489 (0.003)\n",
    ">SmoteTomek 0.490 (0.003)\n",
    ">SmoteENN 0.489 (0.003)"
   ]
  },
  {
   "cell_type": "code",
   "execution_count": null,
   "id": "ec3631b5",
   "metadata": {
    "ExecuteTime": {
     "end_time": "2022-04-12T22:46:38.048094Z",
     "start_time": "2022-04-12T22:46:38.032960Z"
    }
   },
   "outputs": [],
   "source": []
  },
  {
   "cell_type": "code",
   "execution_count": null,
   "id": "76b92a70",
   "metadata": {
    "ExecuteTime": {
     "end_time": "2022-04-12T03:30:49.217047Z",
     "start_time": "2022-04-12T03:30:49.202260Z"
    }
   },
   "outputs": [],
   "source": []
  },
  {
   "cell_type": "code",
   "execution_count": null,
   "id": "cee4c1f9",
   "metadata": {},
   "outputs": [],
   "source": []
  },
  {
   "cell_type": "code",
   "execution_count": null,
   "id": "fd71d016",
   "metadata": {},
   "outputs": [],
   "source": []
  },
  {
   "cell_type": "code",
   "execution_count": null,
   "id": "e51e14c1",
   "metadata": {},
   "outputs": [],
   "source": []
  },
  {
   "cell_type": "code",
   "execution_count": null,
   "id": "737d8eec",
   "metadata": {},
   "outputs": [],
   "source": []
  },
  {
   "cell_type": "code",
   "execution_count": null,
   "id": "66d78237",
   "metadata": {},
   "outputs": [],
   "source": []
  },
  {
   "cell_type": "code",
   "execution_count": null,
   "id": "814747d6",
   "metadata": {},
   "outputs": [],
   "source": []
  },
  {
   "cell_type": "code",
   "execution_count": null,
   "id": "68be5e4a",
   "metadata": {},
   "outputs": [],
   "source": []
  },
  {
   "cell_type": "code",
   "execution_count": null,
   "id": "78ad489c",
   "metadata": {},
   "outputs": [],
   "source": []
  },
  {
   "cell_type": "code",
   "execution_count": null,
   "id": "7bc35981",
   "metadata": {},
   "outputs": [],
   "source": []
  },
  {
   "cell_type": "code",
   "execution_count": null,
   "id": "a99b1b06",
   "metadata": {},
   "outputs": [],
   "source": []
  },
  {
   "cell_type": "code",
   "execution_count": null,
   "id": "e3e6bfda",
   "metadata": {},
   "outputs": [],
   "source": []
  },
  {
   "cell_type": "code",
   "execution_count": null,
   "id": "cd0cd8c8",
   "metadata": {},
   "outputs": [],
   "source": []
  },
  {
   "cell_type": "code",
   "execution_count": null,
   "id": "2121fdce",
   "metadata": {},
   "outputs": [],
   "source": []
  },
  {
   "cell_type": "code",
   "execution_count": null,
   "id": "097f7519",
   "metadata": {
    "ExecuteTime": {
     "end_time": "2022-04-13T03:15:14.676132Z",
     "start_time": "2022-04-13T03:15:14.447819Z"
    }
   },
   "outputs": [],
   "source": []
  },
  {
   "cell_type": "markdown",
   "id": "bfa5daca",
   "metadata": {},
   "source": [
    "# SCRATCHPAD"
   ]
  },
  {
   "cell_type": "code",
   "execution_count": 42,
   "id": "6a4496a4",
   "metadata": {
    "ExecuteTime": {
     "end_time": "2022-04-13T18:59:41.811919Z",
     "start_time": "2022-04-13T18:30:50.575243Z"
    }
   },
   "outputs": [
    {
     "name": "stdout",
     "output_type": "stream",
     "text": [
      "Counter({0: 233938, 1: 21898})\n",
      "Counter({1: 233938, 0: 227568})\n"
     ]
    }
   ],
   "source": [
    "# summarize class distribution\n",
    "counter = Counter(trainy)\n",
    "print(counter)\n",
    "# define the undersampling\n",
    "undersample = SMOTETomek(tomek=TomekLinks(sampling_strategy='majority'))\n",
    "# transform the dataset\n",
    "X1, y1 = undersample.fit_resample(full_pipeline.fit_transform(trainX), trainy)\n",
    "# summarize the new class distribution\n",
    "counter = Counter(y1)\n",
    "print(counter)"
   ]
  },
  {
   "cell_type": "code",
   "execution_count": null,
   "id": "3ab5017e",
   "metadata": {
    "ExecuteTime": {
     "end_time": "2022-04-13T19:02:33.197154Z",
     "start_time": "2022-04-13T19:02:33.179089Z"
    }
   },
   "outputs": [],
   "source": []
  },
  {
   "cell_type": "code",
   "execution_count": null,
   "id": "d9cda072",
   "metadata": {
    "ExecuteTime": {
     "end_time": "2022-04-12T23:33:00.264177Z",
     "start_time": "2022-04-12T23:19:25.483255Z"
    }
   },
   "outputs": [],
   "source": []
  },
  {
   "cell_type": "code",
   "execution_count": null,
   "id": "be0b93e0",
   "metadata": {
    "ExecuteTime": {
     "end_time": "2022-04-12T23:54:46.548144Z",
     "start_time": "2022-04-12T23:41:13.109973Z"
    }
   },
   "outputs": [],
   "source": []
  },
  {
   "cell_type": "code",
   "execution_count": null,
   "id": "8acd08cb",
   "metadata": {
    "ExecuteTime": {
     "end_time": "2022-04-12T23:56:22.064756Z",
     "start_time": "2022-04-12T23:56:22.014746Z"
    }
   },
   "outputs": [],
   "source": []
  },
  {
   "cell_type": "code",
   "execution_count": null,
   "id": "46ddd01f",
   "metadata": {},
   "outputs": [],
   "source": []
  }
 ],
 "metadata": {
  "kernelspec": {
   "display_name": "Python 3 (ipykernel)",
   "language": "python",
   "name": "python3"
  },
  "language_info": {
   "codemirror_mode": {
    "name": "ipython",
    "version": 3
   },
   "file_extension": ".py",
   "mimetype": "text/x-python",
   "name": "python",
   "nbconvert_exporter": "python",
   "pygments_lexer": "ipython3",
   "version": "3.9.7"
  },
  "latex_envs": {
   "LaTeX_envs_menu_present": true,
   "autoclose": false,
   "autocomplete": true,
   "bibliofile": "biblio.bib",
   "cite_by": "apalike",
   "current_citInitial": 1,
   "eqLabelWithNumbers": true,
   "eqNumInitial": 1,
   "hotkeys": {
    "equation": "Ctrl-E",
    "itemize": "Ctrl-I"
   },
   "labels_anchors": false,
   "latex_user_defs": false,
   "report_style_numbering": false,
   "user_envs_cfg": false
  },
  "toc": {
   "base_numbering": 1,
   "nav_menu": {},
   "number_sections": true,
   "sideBar": true,
   "skip_h1_title": false,
   "title_cell": "Table of Contents",
   "title_sidebar": "Contents",
   "toc_cell": false,
   "toc_position": {
    "height": "calc(100% - 180px)",
    "left": "10px",
    "top": "150px",
    "width": "209.6px"
   },
   "toc_section_display": true,
   "toc_window_display": true
  }
 },
 "nbformat": 4,
 "nbformat_minor": 5
}
